{
 "cells": [
  {
   "cell_type": "markdown",
   "metadata": {},
   "source": [
    "## Pertemuan 4"
   ]
  },
  {
   "cell_type": "markdown",
   "metadata": {},
   "source": [
    "# Konstruksi IF THEN"
   ]
  },
  {
   "cell_type": "code",
   "execution_count": 1,
   "metadata": {},
   "outputs": [
    {
     "name": "stdout",
     "output_type": "stream",
     "text": [
      "6 adalah bilangan GENAP\n"
     ]
    }
   ],
   "source": [
    "angka = int(input(\"MAasukkan angka\"))\n",
    "\n",
    "if angka % 2 == 0:\n",
    "    print(f\"{angka} adalah bilangan GENAP\")"
   ]
  },
  {
   "cell_type": "markdown",
   "metadata": {},
   "source": [
    "# Konstruksi IF THEN ELSE"
   ]
  },
  {
   "cell_type": "code",
   "execution_count": 2,
   "metadata": {},
   "outputs": [
    {
     "name": "stdout",
     "output_type": "stream",
     "text": [
      "2024 adalah tahun kabisat\n"
     ]
    }
   ],
   "source": [
    "tahun = int(input(\"Masukkan tahun\"))\n",
    "\n",
    "if (tahun % 4 == 0 and tahun % 100 !=0) or (tahun % 400 == 0):\n",
    "    print(f\"{tahun} adalah tahun kabisat\")\n",
    "else :   \n",
    "    print(f\"{tahun} bukan tahun kabisat\")"
   ]
  },
  {
   "cell_type": "code",
   "execution_count": 3,
   "metadata": {},
   "outputs": [
    {
     "name": "stdout",
     "output_type": "stream",
     "text": [
      "2024 adalah tahun kabisat\n"
     ]
    }
   ],
   "source": [
    "match tahun:\n",
    "    case int if (tahun % 4 == 0 and tahun % 100 != 0) | (tahun % 400 == 0):\n",
    "        print(f\"{tahun} adalah tahun kabisat\")\n",
    "    case _:\n",
    "        print(f\"{tahun} bukan tahun kabisat\")"
   ]
  },
  {
   "cell_type": "markdown",
   "metadata": {},
   "source": [
    "# Konstruksi ELIF"
   ]
  },
  {
   "cell_type": "code",
   "execution_count": 1,
   "metadata": {},
   "outputs": [
    {
     "name": "stdout",
     "output_type": "stream",
     "text": [
      "6 / 8 = 0.75\n"
     ]
    }
   ],
   "source": [
    "bil1 = int(input(\"Masukkan angka ke 1\"))\n",
    "bil2 = int(input(\"Masukkan angka ke 2\"))\n",
    "operator = input(\"Masukkan operasi yang diinginkan (+,-,*,/)\")\n",
    "\n",
    "if operator == \"+\":\n",
    "    hasil = bil1 + bil2\n",
    "    print(f\"{bil1} + {bil2} = {hasil}\")\n",
    "elif operator == \"-\":\n",
    "    hasil = bil1 - bil2  \n",
    "    print(f\"{bil1} - {bil2} = {hasil}\")\n",
    "elif operator == \"*\":\n",
    "    hasil = bil1 * bil2\n",
    "    print(f\"{bil1} * {bil2} = {hasil}\")   \n",
    "elif operator == \"/\":   \n",
    "    hasil = bil1 / bil2\n",
    "    print(f\"{bil1} / {bil2} = {hasil}\")  \n",
    "else:\n",
    "    print(\"operator tidak tersedia\")    "
   ]
  }
 ],
 "metadata": {
  "kernelspec": {
   "display_name": "Python 3",
   "language": "python",
   "name": "python3"
  },
  "language_info": {
   "codemirror_mode": {
    "name": "ipython",
    "version": 3
   },
   "file_extension": ".py",
   "mimetype": "text/x-python",
   "name": "python",
   "nbconvert_exporter": "python",
   "pygments_lexer": "ipython3",
   "version": "3.12.2"
  }
 },
 "nbformat": 4,
 "nbformat_minor": 2
}
